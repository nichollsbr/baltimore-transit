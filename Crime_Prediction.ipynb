{
 "cells": [
  {
   "cell_type": "markdown",
   "metadata": {},
   "source": [
    "## Crime Prediction"
   ]
  },
  {
   "cell_type": "markdown",
   "metadata": {},
   "source": [
    "Dataset - https://data.baltimorecity.gov/Public-Safety/BPD-Part-1-Victim-Based-Crime-Data/wsfq-mvij"
   ]
  },
  {
   "cell_type": "code",
   "execution_count": 1,
   "metadata": {},
   "outputs": [
    {
     "name": "stderr",
     "output_type": "stream",
     "text": [
      "/home/payal/anaconda3/lib/python3.6/site-packages/statsmodels/compat/pandas.py:56: FutureWarning: The pandas.core.datetools module is deprecated and will be removed in a future version. Please use the pandas.tseries module instead.\n",
      "  from pandas.core import datetools\n"
     ]
    }
   ],
   "source": [
    "%matplotlib inline\n",
    "import pandas as pd\n",
    "\n",
    "import numpy as np\n",
    "import matplotlib as plt\n",
    "\n",
    "from sklearn.discriminant_analysis import LinearDiscriminantAnalysis, QuadraticDiscriminantAnalysis\n",
    "\n",
    "from sklearn import linear_model, model_selection, preprocessing, metrics, datasets\n",
    "from sklearn.multiclass import OneVsRestClassifier\n",
    "import statsmodels.api as sm\n",
    "\n",
    "from sklearn.model_selection import cross_val_score"
   ]
  },
  {
   "cell_type": "code",
   "execution_count": 2,
   "metadata": {},
   "outputs": [
    {
     "data": {
      "text/html": [
       "<div>\n",
       "<style>\n",
       "    .dataframe thead tr:only-child th {\n",
       "        text-align: right;\n",
       "    }\n",
       "\n",
       "    .dataframe thead th {\n",
       "        text-align: left;\n",
       "    }\n",
       "\n",
       "    .dataframe tbody tr th {\n",
       "        vertical-align: top;\n",
       "    }\n",
       "</style>\n",
       "<table border=\"1\" class=\"dataframe\">\n",
       "  <thead>\n",
       "    <tr style=\"text-align: right;\">\n",
       "      <th></th>\n",
       "      <th>CrimeDate</th>\n",
       "      <th>CrimeTime</th>\n",
       "      <th>CrimeCode</th>\n",
       "      <th>Location</th>\n",
       "      <th>Description</th>\n",
       "      <th>Inside/Outside</th>\n",
       "      <th>Weapon</th>\n",
       "      <th>Post</th>\n",
       "      <th>District</th>\n",
       "      <th>Neighborhood</th>\n",
       "      <th>Longitude</th>\n",
       "      <th>Latitude</th>\n",
       "      <th>Location 1</th>\n",
       "      <th>Premise</th>\n",
       "      <th>Total Incidents</th>\n",
       "    </tr>\n",
       "  </thead>\n",
       "  <tbody>\n",
       "    <tr>\n",
       "      <th>122670</th>\n",
       "      <td>06/27/2015</td>\n",
       "      <td>00:36:00</td>\n",
       "      <td>4B</td>\n",
       "      <td>3900 FERNDALE AVE</td>\n",
       "      <td>AGG. ASSAULT</td>\n",
       "      <td>I</td>\n",
       "      <td>KNIFE</td>\n",
       "      <td>622.0</td>\n",
       "      <td>NORTHWESTERN</td>\n",
       "      <td>Howard Park</td>\n",
       "      <td>-76.69680</td>\n",
       "      <td>39.33846</td>\n",
       "      <td>(39.3384600000, -76.6968000000)</td>\n",
       "      <td>ROW/TOWNHO</td>\n",
       "      <td>1</td>\n",
       "    </tr>\n",
       "    <tr>\n",
       "      <th>77062</th>\n",
       "      <td>06/05/2016</td>\n",
       "      <td>16:00:00</td>\n",
       "      <td>6D</td>\n",
       "      <td>2000 E FAYETTE ST</td>\n",
       "      <td>LARCENY FROM AUTO</td>\n",
       "      <td>O</td>\n",
       "      <td>NaN</td>\n",
       "      <td>212.0</td>\n",
       "      <td>EASTERN</td>\n",
       "      <td>Butcher's Hill</td>\n",
       "      <td>-76.58820</td>\n",
       "      <td>39.29413</td>\n",
       "      <td>(39.2941300000, -76.5882000000)</td>\n",
       "      <td>PARKING LO</td>\n",
       "      <td>1</td>\n",
       "    </tr>\n",
       "    <tr>\n",
       "      <th>3025</th>\n",
       "      <td>11/08/2017</td>\n",
       "      <td>19:30:00</td>\n",
       "      <td>3B</td>\n",
       "      <td>1700 INGRAM RD</td>\n",
       "      <td>ROBBERY - STREET</td>\n",
       "      <td>O</td>\n",
       "      <td>NaN</td>\n",
       "      <td>415.0</td>\n",
       "      <td>NORTHEASTERN</td>\n",
       "      <td>Perring Loch</td>\n",
       "      <td>-76.58376</td>\n",
       "      <td>39.35114</td>\n",
       "      <td>(39.3511400000, -76.5837600000)</td>\n",
       "      <td>ALLEY</td>\n",
       "      <td>1</td>\n",
       "    </tr>\n",
       "    <tr>\n",
       "      <th>56897</th>\n",
       "      <td>10/23/2016</td>\n",
       "      <td>23:00:00</td>\n",
       "      <td>7A</td>\n",
       "      <td>1600 CLIFTON AVE</td>\n",
       "      <td>AUTO THEFT</td>\n",
       "      <td>O</td>\n",
       "      <td>NaN</td>\n",
       "      <td>733.0</td>\n",
       "      <td>WESTERN</td>\n",
       "      <td>Penn North</td>\n",
       "      <td>-76.64573</td>\n",
       "      <td>39.31228</td>\n",
       "      <td>(39.3122800000, -76.6457300000)</td>\n",
       "      <td>STREET</td>\n",
       "      <td>1</td>\n",
       "    </tr>\n",
       "    <tr>\n",
       "      <th>38716</th>\n",
       "      <td>03/02/2017</td>\n",
       "      <td>09:30:00</td>\n",
       "      <td>6C</td>\n",
       "      <td>0 S PACA ST</td>\n",
       "      <td>LARCENY</td>\n",
       "      <td>NaN</td>\n",
       "      <td>NaN</td>\n",
       "      <td>121.0</td>\n",
       "      <td>CENTRAL</td>\n",
       "      <td>University Of Maryland</td>\n",
       "      <td>-76.62225</td>\n",
       "      <td>39.28833</td>\n",
       "      <td>(39.2883300000, -76.6222500000)</td>\n",
       "      <td>NaN</td>\n",
       "      <td>1</td>\n",
       "    </tr>\n",
       "    <tr>\n",
       "      <th>191572</th>\n",
       "      <td>12/25/2013</td>\n",
       "      <td>02:00:00</td>\n",
       "      <td>5D</td>\n",
       "      <td>4200 SHANNON DR</td>\n",
       "      <td>BURGLARY</td>\n",
       "      <td>O</td>\n",
       "      <td>NaN</td>\n",
       "      <td>433.0</td>\n",
       "      <td>NORTHEASTERN</td>\n",
       "      <td>Orchard Ridge</td>\n",
       "      <td>-76.55541</td>\n",
       "      <td>39.31673</td>\n",
       "      <td>(39.3167300000, -76.5554100000)</td>\n",
       "      <td>MINI STORA</td>\n",
       "      <td>1</td>\n",
       "    </tr>\n",
       "    <tr>\n",
       "      <th>197866</th>\n",
       "      <td>11/07/2013</td>\n",
       "      <td>20:40:00</td>\n",
       "      <td>6C</td>\n",
       "      <td>2400 FREDERICK AV</td>\n",
       "      <td>LARCENY</td>\n",
       "      <td>I</td>\n",
       "      <td>NaN</td>\n",
       "      <td>841.0</td>\n",
       "      <td>SOUTHWESTERN</td>\n",
       "      <td>Millhill</td>\n",
       "      <td>-76.65583</td>\n",
       "      <td>39.28342</td>\n",
       "      <td>(39.2834200000, -76.6558300000)</td>\n",
       "      <td>OTHER - IN</td>\n",
       "      <td>1</td>\n",
       "    </tr>\n",
       "    <tr>\n",
       "      <th>220518</th>\n",
       "      <td>06/05/2013</td>\n",
       "      <td>12:00:00</td>\n",
       "      <td>5A</td>\n",
       "      <td>400 HAZLETT AV</td>\n",
       "      <td>BURGLARY</td>\n",
       "      <td>I</td>\n",
       "      <td>NaN</td>\n",
       "      <td>833.0</td>\n",
       "      <td>SOUTHWESTERN</td>\n",
       "      <td>Beechfield</td>\n",
       "      <td>-76.69812</td>\n",
       "      <td>39.27836</td>\n",
       "      <td>(39.2783600000, -76.6981200000)</td>\n",
       "      <td>SINGLE HOU</td>\n",
       "      <td>1</td>\n",
       "    </tr>\n",
       "    <tr>\n",
       "      <th>133498</th>\n",
       "      <td>04/15/2015</td>\n",
       "      <td>12:00:00</td>\n",
       "      <td>6E</td>\n",
       "      <td>5400 PARK HEIGHTS AVE</td>\n",
       "      <td>LARCENY</td>\n",
       "      <td>I</td>\n",
       "      <td>NaN</td>\n",
       "      <td>633.0</td>\n",
       "      <td>NORTHWESTERN</td>\n",
       "      <td>Arlington</td>\n",
       "      <td>-76.68143</td>\n",
       "      <td>39.35061</td>\n",
       "      <td>(39.3506100000, -76.6814300000)</td>\n",
       "      <td>OTHER - IN</td>\n",
       "      <td>1</td>\n",
       "    </tr>\n",
       "    <tr>\n",
       "      <th>266587</th>\n",
       "      <td>06/22/2012</td>\n",
       "      <td>22:45:00</td>\n",
       "      <td>4B</td>\n",
       "      <td>5200 FRANKFORD AV</td>\n",
       "      <td>AGG. ASSAULT</td>\n",
       "      <td>I</td>\n",
       "      <td>KNIFE</td>\n",
       "      <td>443.0</td>\n",
       "      <td>NORTHEASTERN</td>\n",
       "      <td>Frankford</td>\n",
       "      <td>-76.54112</td>\n",
       "      <td>39.32628</td>\n",
       "      <td>(39.3262800000, -76.5411200000)</td>\n",
       "      <td>APT/CONDO</td>\n",
       "      <td>1</td>\n",
       "    </tr>\n",
       "  </tbody>\n",
       "</table>\n",
       "</div>"
      ],
      "text/plain": [
       "         CrimeDate CrimeTime CrimeCode               Location  \\\n",
       "122670  06/27/2015  00:36:00        4B      3900 FERNDALE AVE   \n",
       "77062   06/05/2016  16:00:00        6D      2000 E FAYETTE ST   \n",
       "3025    11/08/2017  19:30:00        3B         1700 INGRAM RD   \n",
       "56897   10/23/2016  23:00:00        7A       1600 CLIFTON AVE   \n",
       "38716   03/02/2017  09:30:00        6C            0 S PACA ST   \n",
       "191572  12/25/2013  02:00:00        5D        4200 SHANNON DR   \n",
       "197866  11/07/2013  20:40:00        6C      2400 FREDERICK AV   \n",
       "220518  06/05/2013  12:00:00        5A         400 HAZLETT AV   \n",
       "133498  04/15/2015  12:00:00        6E  5400 PARK HEIGHTS AVE   \n",
       "266587  06/22/2012  22:45:00        4B      5200 FRANKFORD AV   \n",
       "\n",
       "              Description Inside/Outside Weapon   Post      District  \\\n",
       "122670       AGG. ASSAULT              I  KNIFE  622.0  NORTHWESTERN   \n",
       "77062   LARCENY FROM AUTO              O    NaN  212.0       EASTERN   \n",
       "3025     ROBBERY - STREET              O    NaN  415.0  NORTHEASTERN   \n",
       "56897          AUTO THEFT              O    NaN  733.0       WESTERN   \n",
       "38716             LARCENY            NaN    NaN  121.0       CENTRAL   \n",
       "191572           BURGLARY              O    NaN  433.0  NORTHEASTERN   \n",
       "197866            LARCENY              I    NaN  841.0  SOUTHWESTERN   \n",
       "220518           BURGLARY              I    NaN  833.0  SOUTHWESTERN   \n",
       "133498            LARCENY              I    NaN  633.0  NORTHWESTERN   \n",
       "266587       AGG. ASSAULT              I  KNIFE  443.0  NORTHEASTERN   \n",
       "\n",
       "                  Neighborhood  Longitude  Latitude  \\\n",
       "122670             Howard Park  -76.69680  39.33846   \n",
       "77062           Butcher's Hill  -76.58820  39.29413   \n",
       "3025              Perring Loch  -76.58376  39.35114   \n",
       "56897               Penn North  -76.64573  39.31228   \n",
       "38716   University Of Maryland  -76.62225  39.28833   \n",
       "191572           Orchard Ridge  -76.55541  39.31673   \n",
       "197866                Millhill  -76.65583  39.28342   \n",
       "220518              Beechfield  -76.69812  39.27836   \n",
       "133498               Arlington  -76.68143  39.35061   \n",
       "266587               Frankford  -76.54112  39.32628   \n",
       "\n",
       "                             Location 1     Premise  Total Incidents  \n",
       "122670  (39.3384600000, -76.6968000000)  ROW/TOWNHO                1  \n",
       "77062   (39.2941300000, -76.5882000000)  PARKING LO                1  \n",
       "3025    (39.3511400000, -76.5837600000)       ALLEY                1  \n",
       "56897   (39.3122800000, -76.6457300000)      STREET                1  \n",
       "38716   (39.2883300000, -76.6222500000)         NaN                1  \n",
       "191572  (39.3167300000, -76.5554100000)  MINI STORA                1  \n",
       "197866  (39.2834200000, -76.6558300000)  OTHER - IN                1  \n",
       "220518  (39.2783600000, -76.6981200000)  SINGLE HOU                1  \n",
       "133498  (39.3506100000, -76.6814300000)  OTHER - IN                1  \n",
       "266587  (39.3262800000, -76.5411200000)   APT/CONDO                1  "
      ]
     },
     "execution_count": 2,
     "metadata": {},
     "output_type": "execute_result"
    }
   ],
   "source": [
    "# The dataset\n",
    "pc=pd.read_csv(\"BPD_Victim.csv\")\n",
    "pc.sample(50).head(10)"
   ]
  },
  {
   "cell_type": "code",
   "execution_count": 3,
   "metadata": {},
   "outputs": [
    {
     "data": {
      "text/plain": [
       "Index(['CrimeDate', 'CrimeTime', 'CrimeCode', 'Location', 'Description',\n",
       "       'Inside/Outside', 'Weapon', 'Post', 'District', 'Neighborhood',\n",
       "       'Longitude', 'Latitude', 'Location 1', 'Premise', 'Total Incidents'],\n",
       "      dtype='object')"
      ]
     },
     "execution_count": 3,
     "metadata": {},
     "output_type": "execute_result"
    }
   ],
   "source": [
    "pc.columns"
   ]
  },
  {
   "cell_type": "code",
   "execution_count": 4,
   "metadata": {},
   "outputs": [
    {
     "data": {
      "text/plain": [
       "array(['COMMON ASSAULT', 'LARCENY', 'ROBBERY - STREET', 'AGG. ASSAULT',\n",
       "       'LARCENY FROM AUTO', 'HOMICIDE', 'BURGLARY', 'AUTO THEFT',\n",
       "       'ROBBERY - RESIDENCE', 'ROBBERY - COMMERCIAL',\n",
       "       'ROBBERY - CARJACKING', 'ASSAULT BY THREAT', 'SHOOTING', 'RAPE',\n",
       "       'ARSON'], dtype=object)"
      ]
     },
     "execution_count": 4,
     "metadata": {},
     "output_type": "execute_result"
    }
   ],
   "source": [
    "pc.Description.unique()"
   ]
  },
  {
   "cell_type": "code",
   "execution_count": 5,
   "metadata": {
    "collapsed": true
   },
   "outputs": [],
   "source": [
    "#Get only outside crimes\n",
    "\n",
    "pc = pc.loc[pc['Inside/Outside'] == 'O']"
   ]
  },
  {
   "cell_type": "code",
   "execution_count": 6,
   "metadata": {},
   "outputs": [
    {
     "name": "stderr",
     "output_type": "stream",
     "text": [
      "/home/payal/anaconda3/lib/python3.6/site-packages/ipykernel_launcher.py:3: SettingWithCopyWarning: \n",
      "A value is trying to be set on a copy of a slice from a DataFrame.\n",
      "Try using .loc[row_indexer,col_indexer] = value instead\n",
      "\n",
      "See the caveats in the documentation: http://pandas.pydata.org/pandas-docs/stable/indexing.html#indexing-view-versus-copy\n",
      "  This is separate from the ipykernel package so we can avoid doing imports until\n"
     ]
    },
    {
     "data": {
      "text/html": [
       "<div>\n",
       "<style>\n",
       "    .dataframe thead tr:only-child th {\n",
       "        text-align: right;\n",
       "    }\n",
       "\n",
       "    .dataframe thead th {\n",
       "        text-align: left;\n",
       "    }\n",
       "\n",
       "    .dataframe tbody tr th {\n",
       "        vertical-align: top;\n",
       "    }\n",
       "</style>\n",
       "<table border=\"1\" class=\"dataframe\">\n",
       "  <thead>\n",
       "    <tr style=\"text-align: right;\">\n",
       "      <th></th>\n",
       "      <th>CrimeTime</th>\n",
       "      <th>Description</th>\n",
       "    </tr>\n",
       "  </thead>\n",
       "  <tbody>\n",
       "    <tr>\n",
       "      <th>3</th>\n",
       "      <td>12/02/2017 21:29:00</td>\n",
       "      <td>ROBBERY - STREET</td>\n",
       "    </tr>\n",
       "    <tr>\n",
       "      <th>7</th>\n",
       "      <td>12/02/2017 21:10:00</td>\n",
       "      <td>COMMON ASSAULT</td>\n",
       "    </tr>\n",
       "    <tr>\n",
       "      <th>8</th>\n",
       "      <td>12/02/2017 21:09:00</td>\n",
       "      <td>AGG. ASSAULT</td>\n",
       "    </tr>\n",
       "    <tr>\n",
       "      <th>11</th>\n",
       "      <td>12/02/2017 20:30:00</td>\n",
       "      <td>ROBBERY - STREET</td>\n",
       "    </tr>\n",
       "    <tr>\n",
       "      <th>15</th>\n",
       "      <td>12/02/2017 20:00:00</td>\n",
       "      <td>ROBBERY - STREET</td>\n",
       "    </tr>\n",
       "  </tbody>\n",
       "</table>\n",
       "</div>"
      ],
      "text/plain": [
       "              CrimeTime       Description\n",
       "3   12/02/2017 21:29:00  ROBBERY - STREET\n",
       "7   12/02/2017 21:10:00    COMMON ASSAULT\n",
       "8   12/02/2017 21:09:00      AGG. ASSAULT\n",
       "11  12/02/2017 20:30:00  ROBBERY - STREET\n",
       "15  12/02/2017 20:00:00  ROBBERY - STREET"
      ]
     },
     "execution_count": 6,
     "metadata": {},
     "output_type": "execute_result"
    }
   ],
   "source": [
    "time_desc = pc[['CrimeDate', 'CrimeTime', 'Description']]\n",
    "time_desc.columns\n",
    "time_desc['CrimeTime'] = time_desc['CrimeDate'].map(str) + ' ' + time_desc['CrimeTime']\n",
    "del time_desc['CrimeDate']\n",
    "time_desc.head()"
   ]
  },
  {
   "cell_type": "code",
   "execution_count": 7,
   "metadata": {},
   "outputs": [
    {
     "name": "stderr",
     "output_type": "stream",
     "text": [
      "/home/payal/anaconda3/lib/python3.6/site-packages/ipykernel_launcher.py:1: SettingWithCopyWarning: \n",
      "A value is trying to be set on a copy of a slice from a DataFrame.\n",
      "Try using .loc[row_indexer,col_indexer] = value instead\n",
      "\n",
      "See the caveats in the documentation: http://pandas.pydata.org/pandas-docs/stable/indexing.html#indexing-view-versus-copy\n",
      "  \"\"\"Entry point for launching an IPython kernel.\n"
     ]
    }
   ],
   "source": [
    "time_desc['CrimeTime'] = pd.to_datetime(time_desc['CrimeTime'])"
   ]
  },
  {
   "cell_type": "code",
   "execution_count": 8,
   "metadata": {},
   "outputs": [
    {
     "data": {
      "text/plain": [
       "Index(['CrimeTime', 'Description'], dtype='object')"
      ]
     },
     "execution_count": 8,
     "metadata": {},
     "output_type": "execute_result"
    }
   ],
   "source": [
    "time_desc.columns"
   ]
  },
  {
   "cell_type": "code",
   "execution_count": 9,
   "metadata": {},
   "outputs": [
    {
     "data": {
      "text/plain": [
       "CrimeTime      datetime64[ns]\n",
       "Description            object\n",
       "dtype: object"
      ]
     },
     "execution_count": 9,
     "metadata": {},
     "output_type": "execute_result"
    }
   ],
   "source": [
    "time_desc.dtypes"
   ]
  },
  {
   "cell_type": "code",
   "execution_count": 10,
   "metadata": {},
   "outputs": [
    {
     "name": "stderr",
     "output_type": "stream",
     "text": [
      "/home/payal/anaconda3/lib/python3.6/site-packages/ipykernel_launcher.py:1: SettingWithCopyWarning: \n",
      "A value is trying to be set on a copy of a slice from a DataFrame.\n",
      "Try using .loc[row_indexer,col_indexer] = value instead\n",
      "\n",
      "See the caveats in the documentation: http://pandas.pydata.org/pandas-docs/stable/indexing.html#indexing-view-versus-copy\n",
      "  \"\"\"Entry point for launching an IPython kernel.\n"
     ]
    }
   ],
   "source": [
    "time_desc['hour'] = time_desc.CrimeTime.apply(lambda x : x.hour)"
   ]
  },
  {
   "cell_type": "code",
   "execution_count": 11,
   "metadata": {},
   "outputs": [
    {
     "name": "stderr",
     "output_type": "stream",
     "text": [
      "/home/payal/anaconda3/lib/python3.6/site-packages/ipykernel_launcher.py:1: SettingWithCopyWarning: \n",
      "A value is trying to be set on a copy of a slice from a DataFrame.\n",
      "Try using .loc[row_indexer,col_indexer] = value instead\n",
      "\n",
      "See the caveats in the documentation: http://pandas.pydata.org/pandas-docs/stable/indexing.html#indexing-view-versus-copy\n",
      "  \"\"\"Entry point for launching an IPython kernel.\n"
     ]
    }
   ],
   "source": [
    "time_desc['year'] = time_desc.CrimeTime.apply(lambda x : x.year)"
   ]
  },
  {
   "cell_type": "code",
   "execution_count": 12,
   "metadata": {},
   "outputs": [
    {
     "data": {
      "text/html": [
       "<div>\n",
       "<style>\n",
       "    .dataframe thead tr:only-child th {\n",
       "        text-align: right;\n",
       "    }\n",
       "\n",
       "    .dataframe thead th {\n",
       "        text-align: left;\n",
       "    }\n",
       "\n",
       "    .dataframe tbody tr th {\n",
       "        vertical-align: top;\n",
       "    }\n",
       "</style>\n",
       "<table border=\"1\" class=\"dataframe\">\n",
       "  <thead>\n",
       "    <tr style=\"text-align: right;\">\n",
       "      <th></th>\n",
       "      <th>CrimeTime</th>\n",
       "      <th>Description</th>\n",
       "      <th>hour</th>\n",
       "      <th>year</th>\n",
       "    </tr>\n",
       "  </thead>\n",
       "  <tbody>\n",
       "    <tr>\n",
       "      <th>3</th>\n",
       "      <td>2017-12-02 21:29:00</td>\n",
       "      <td>ROBBERY - STREET</td>\n",
       "      <td>21</td>\n",
       "      <td>2017</td>\n",
       "    </tr>\n",
       "    <tr>\n",
       "      <th>7</th>\n",
       "      <td>2017-12-02 21:10:00</td>\n",
       "      <td>COMMON ASSAULT</td>\n",
       "      <td>21</td>\n",
       "      <td>2017</td>\n",
       "    </tr>\n",
       "    <tr>\n",
       "      <th>8</th>\n",
       "      <td>2017-12-02 21:09:00</td>\n",
       "      <td>AGG. ASSAULT</td>\n",
       "      <td>21</td>\n",
       "      <td>2017</td>\n",
       "    </tr>\n",
       "    <tr>\n",
       "      <th>11</th>\n",
       "      <td>2017-12-02 20:30:00</td>\n",
       "      <td>ROBBERY - STREET</td>\n",
       "      <td>20</td>\n",
       "      <td>2017</td>\n",
       "    </tr>\n",
       "    <tr>\n",
       "      <th>15</th>\n",
       "      <td>2017-12-02 20:00:00</td>\n",
       "      <td>ROBBERY - STREET</td>\n",
       "      <td>20</td>\n",
       "      <td>2017</td>\n",
       "    </tr>\n",
       "  </tbody>\n",
       "</table>\n",
       "</div>"
      ],
      "text/plain": [
       "             CrimeTime       Description  hour  year\n",
       "3  2017-12-02 21:29:00  ROBBERY - STREET    21  2017\n",
       "7  2017-12-02 21:10:00    COMMON ASSAULT    21  2017\n",
       "8  2017-12-02 21:09:00      AGG. ASSAULT    21  2017\n",
       "11 2017-12-02 20:30:00  ROBBERY - STREET    20  2017\n",
       "15 2017-12-02 20:00:00  ROBBERY - STREET    20  2017"
      ]
     },
     "execution_count": 12,
     "metadata": {},
     "output_type": "execute_result"
    }
   ],
   "source": [
    "time_desc.head()"
   ]
  },
  {
   "cell_type": "code",
   "execution_count": 45,
   "metadata": {},
   "outputs": [
    {
     "data": {
      "text/html": [
       "<div>\n",
       "<style>\n",
       "    .dataframe thead tr:only-child th {\n",
       "        text-align: right;\n",
       "    }\n",
       "\n",
       "    .dataframe thead th {\n",
       "        text-align: left;\n",
       "    }\n",
       "\n",
       "    .dataframe tbody tr th {\n",
       "        vertical-align: top;\n",
       "    }\n",
       "</style>\n",
       "<table border=\"1\" class=\"dataframe\">\n",
       "  <thead>\n",
       "    <tr style=\"text-align: right;\">\n",
       "      <th></th>\n",
       "      <th>year</th>\n",
       "      <th>Description</th>\n",
       "      <th>count</th>\n",
       "    </tr>\n",
       "  </thead>\n",
       "  <tbody>\n",
       "    <tr>\n",
       "      <th>0</th>\n",
       "      <td>2012</td>\n",
       "      <td>AGG. ASSAULT</td>\n",
       "      <td>2270</td>\n",
       "    </tr>\n",
       "    <tr>\n",
       "      <th>1</th>\n",
       "      <td>2012</td>\n",
       "      <td>ARSON</td>\n",
       "      <td>114</td>\n",
       "    </tr>\n",
       "    <tr>\n",
       "      <th>2</th>\n",
       "      <td>2012</td>\n",
       "      <td>ASSAULT BY THREAT</td>\n",
       "      <td>131</td>\n",
       "    </tr>\n",
       "    <tr>\n",
       "      <th>3</th>\n",
       "      <td>2012</td>\n",
       "      <td>AUTO THEFT</td>\n",
       "      <td>3563</td>\n",
       "    </tr>\n",
       "    <tr>\n",
       "      <th>4</th>\n",
       "      <td>2012</td>\n",
       "      <td>BURGLARY</td>\n",
       "      <td>352</td>\n",
       "    </tr>\n",
       "  </tbody>\n",
       "</table>\n",
       "</div>"
      ],
      "text/plain": [
       "   year        Description  count\n",
       "0  2012       AGG. ASSAULT   2270\n",
       "1  2012              ARSON    114\n",
       "2  2012  ASSAULT BY THREAT    131\n",
       "3  2012         AUTO THEFT   3563\n",
       "4  2012           BURGLARY    352"
      ]
     },
     "execution_count": 45,
     "metadata": {},
     "output_type": "execute_result"
    }
   ],
   "source": [
    "# number of crimes per year color coded by crime type - line graph - one line per crime type\n",
    "\n",
    "by_year = time_desc.groupby(['year', 'Description']).count().reset_index()\n",
    "by_year['count'] = by_year['CrimeTime']\n",
    "del by_year['CrimeTime']\n",
    "del by_year['hour']\n",
    "by_year.head()"
   ]
  },
  {
   "cell_type": "code",
   "execution_count": 62,
   "metadata": {},
   "outputs": [
    {
     "data": {
      "text/plain": [
       "year            int64\n",
       "Description    object\n",
       "count           int64\n",
       "dtype: object"
      ]
     },
     "execution_count": 62,
     "metadata": {},
     "output_type": "execute_result"
    }
   ],
   "source": [
    "by_year.dtypes"
   ]
  },
  {
   "cell_type": "code",
   "execution_count": 74,
   "metadata": {
    "collapsed": true
   },
   "outputs": [],
   "source": [
    "crime_type = time_desc['Description'].unique().tolist()\n"
   ]
  },
  {
   "cell_type": "code",
   "execution_count": 48,
   "metadata": {},
   "outputs": [
    {
     "data": {
      "text/html": [
       "<script>requirejs.config({paths: { 'plotly': ['https://cdn.plot.ly/plotly-latest.min']},});if(!window.Plotly) {{require(['plotly'],function(plotly) {window.Plotly=plotly;});}}</script>"
      ],
      "text/vnd.plotly.v1+html": [
       "<script>requirejs.config({paths: { 'plotly': ['https://cdn.plot.ly/plotly-latest.min']},});if(!window.Plotly) {{require(['plotly'],function(plotly) {window.Plotly=plotly;});}}</script>"
      ]
     },
     "metadata": {},
     "output_type": "display_data"
    }
   ],
   "source": [
    "import plotly.graph_objs as bp\n",
    "from plotly.offline import download_plotlyjs, init_notebook_mode, plot, iplot\n",
    "#import plotly.offline as po\n",
    "init_notebook_mode(connected=True)"
   ]
  },
  {
   "cell_type": "code",
   "execution_count": 108,
   "metadata": {},
   "outputs": [],
   "source": [
    "import sklearn.preprocessing as sk\n",
    "\n",
    "le = sk.LabelEncoder()\n",
    "\n",
    "by_year['Description'] = le.fit_transform(by_year['Description'])\n",
    "#list(le.inverse_transform(by_year['Description']))"
   ]
  },
  {
   "cell_type": "code",
   "execution_count": 111,
   "metadata": {},
   "outputs": [
    {
     "name": "stdout",
     "output_type": "stream",
     "text": [
      "\n"
     ]
    },
    {
     "data": {
      "image/png": "[encoded data removed]",
      "text/plain": [
       "<matplotlib.figure.Figure at 0x7f55c2715048>"
      ]
     },
     "metadata": {},
     "output_type": "display_data"
    }
   ],
   "source": [
    "import matplotlib.pyplot as plt\n",
    "import numpy as np\n",
    "\n",
    "fig = plt.figure(figsize=(10,10))\n",
    "\n",
    "year = by_year['year'].tolist()\n",
    "crime_type = time_desc['Description'].unique().tolist()\n",
    "\n",
    "ax = fig.add_subplot(111)\n",
    "fig.subplots_adjust(top=1)\n",
    "ax.set_title('crime vs year')\n",
    "ax.set_xlabel('crime')\n",
    "ax.set_ylabel('count')\n",
    "\n",
    "\n",
    "for i in year:\n",
    "    x = by_year.loc[by_year['year'] == i]['Description'].tolist()\n",
    "    y = by_year.loc[by_year['year'] == i]['count'].tolist()\n",
    "    plt.plot(x, y)\n",
    "\n",
    "print()\n",
    "plt.legend(set(year), loc='upper left')\n",
    "plt.show()"
   ]
  },
  {
   "cell_type": "code",
   "execution_count": 67,
   "metadata": {},
   "outputs": [
    {
     "ename": "AttributeError",
     "evalue": "'str' object has no attribute 'set_color'",
     "output_type": "error",
     "traceback": [
      "\u001b[0;31m---------------------------------------------------------------------------\u001b[0m",
      "\u001b[0;31mAttributeError\u001b[0m                            Traceback (most recent call last)",
      "\u001b[0;32m<ipython-input-67-af14c761254a>\u001b[0m in \u001b[0;36m<module>\u001b[0;34m()\u001b[0m\n\u001b[1;32m     10\u001b[0m \u001b[0mcolors\u001b[0m \u001b[0;34m=\u001b[0m \u001b[0;34m[\u001b[0m\u001b[0mcolormap\u001b[0m\u001b[0;34m(\u001b[0m\u001b[0mi\u001b[0m\u001b[0;34m)\u001b[0m \u001b[0;32mfor\u001b[0m \u001b[0mi\u001b[0m \u001b[0;32min\u001b[0m \u001b[0mnp\u001b[0m\u001b[0;34m.\u001b[0m\u001b[0mlinspace\u001b[0m\u001b[0;34m(\u001b[0m\u001b[0;36m0\u001b[0m\u001b[0;34m,\u001b[0m \u001b[0;36m1\u001b[0m\u001b[0;34m,\u001b[0m\u001b[0mlen\u001b[0m\u001b[0;34m(\u001b[0m\u001b[0mcrime_type\u001b[0m\u001b[0;34m)\u001b[0m\u001b[0;34m)\u001b[0m\u001b[0;34m]\u001b[0m\u001b[0;34m\u001b[0m\u001b[0m\n\u001b[1;32m     11\u001b[0m \u001b[0;32mfor\u001b[0m \u001b[0mi\u001b[0m\u001b[0;34m,\u001b[0m\u001b[0mj\u001b[0m \u001b[0;32min\u001b[0m \u001b[0menumerate\u001b[0m\u001b[0;34m(\u001b[0m\u001b[0mcrime_type\u001b[0m\u001b[0;34m)\u001b[0m\u001b[0;34m:\u001b[0m\u001b[0;34m\u001b[0m\u001b[0m\n\u001b[0;32m---> 12\u001b[0;31m     \u001b[0mj\u001b[0m\u001b[0;34m.\u001b[0m\u001b[0mset_color\u001b[0m\u001b[0;34m(\u001b[0m\u001b[0mcolors\u001b[0m\u001b[0;34m[\u001b[0m\u001b[0mi\u001b[0m\u001b[0;34m]\u001b[0m\u001b[0;34m)\u001b[0m\u001b[0;34m\u001b[0m\u001b[0m\n\u001b[0m\u001b[1;32m     13\u001b[0m \u001b[0;34m\u001b[0m\u001b[0m\n\u001b[1;32m     14\u001b[0m \u001b[0;34m\u001b[0m\u001b[0m\n",
      "\u001b[0;31mAttributeError\u001b[0m: 'str' object has no attribute 'set_color'"
     ]
    },
    {
     "data": {
      "image/png": "[encoded data removed]",
      "text/plain": [
       "<matplotlib.figure.Figure at 0x7f55c434b668>"
      ]
     },
     "metadata": {},
     "output_type": "display_data"
    }
   ],
   "source": [
    "import matplotlib.pyplot as plt\n",
    "import numpy as np\n",
    "\n",
    "fig1 = plt.figure()\n",
    "ax1 = fig1.add_subplot(111)\n",
    "\n",
    "crime_type = time_desc['Description'].unique().tolist()\n",
    "\n",
    "colormap = plt.cm.gist_ncar #nipy_spectral, Set1,Paired   \n",
    "colors = [colormap(i) for i in np.linspace(0, 1,len(crime_type))]\n",
    "for i,j in enumerate(crime_type):\n",
    "    j.set_color(colors[i])\n",
    "\n",
    "\n",
    "ax1.legend(loc=2)\n",
    "\n",
    "#year = by_year['year'].unique().tolist()\n",
    "#by_year['count'].where(by_year['year'] == 2012)\n",
    "for i in year:\n",
    "    ax1.plot(by_year['count'],label=crime_type)"
   ]
  },
  {
   "cell_type": "code",
   "execution_count": null,
   "metadata": {
    "collapsed": true
   },
   "outputs": [],
   "source": [
    "#print(crime.head())\n",
    "notice.sort_values('NoticeDate', inplace=True)\n",
    "\n",
    "#print(str(notice.dtypes))\n",
    "#print(notice.head())\n",
    "\n",
    "y = crime.groupby(['CrimeDate']).CrimeDate.count()\n",
    "dat = []\n",
    "for x in range(len(y)):\n",
    "    dat.append(y[x])\n",
    "\n",
    "#notice.sort_values('NoticeDate', inplace=True, ascending=False)\n",
    "xx = notice.groupby(['NoticeDate']).NoticeDate.count()\n",
    "dut = []\n",
    "\n",
    "#print(notice.head())\n",
    "for xxx in range(len(xx)):\n",
    "    dut.append(xx[xxx])\n",
    "\n",
    "#print(len(dat))\n",
    "dutta = []\n",
    "bhatta = []\n",
    "for crimdat in crime.CrimeDate.unique():\n",
    "    dutta.append(crimdat)\n",
    "for bhat in notice.NoticeDate.unique():\n",
    "    bhatta.append(bhat)\n",
    "    \n",
    "#print(len(dutta),len(bhatta))\n",
    "#print(notice.NoticeDate.unique())\n",
    "\n",
    "bat = []\n",
    "   \n",
    "for nu in range(len(dut)):\n",
    "    if (nu == 0):\n",
    "        bat.append(dut[nu])\n",
    "    else:\n",
    "        bat.append(dut[nu] + bat[nu - 1])\n",
    "        \n",
    "#print(dut)\n",
    "\n",
    "fig = {\n",
    "        'data': [\n",
    "  \t\t{\n",
    "  \t\t\t'x': dutta, \n",
    "        \t'y': dat*1000,\n",
    "#        \t'text': str(crime.CrimeDate), \n",
    "        \t'mode': 'markers', \n",
    "        \t'name': 'Crimes'},\n",
    "\n",
    "        {\n",
    "        \t'x': bhatta, \n",
    "        \t'y': bat, \n",
    "#        \t'text': str(notice.NoticeDate), \n",
    "        \t'mode': 'markers', \n",
    "        \t'name': 'Notices'}\n",
    "\n",
    "    ],\n",
    "    'layout': {\n",
    "        'xaxis': {'title': 'crimedate and noticedate', 'autorange': 'reversed', 'type': 'date'},\n",
    "        'yaxis': {'title': \"number of crimes\"}\n",
    "    }\n",
    "}\n",
    "iplot(fig)"
   ]
  }
 ],
 "metadata": {
  "kernelspec": {
   "display_name": "Python 3",
   "language": "python",
   "name": "python3"
  },
  "language_info": {
   "codemirror_mode": {
    "name": "ipython",
    "version": 3
   },
   "file_extension": ".py",
   "mimetype": "text/x-python",
   "name": "python",
   "nbconvert_exporter": "python",
   "pygments_lexer": "ipython3",
   "version": "3.6.2"
  }
 },
 "nbformat": 4,
 "nbformat_minor": 2
}
