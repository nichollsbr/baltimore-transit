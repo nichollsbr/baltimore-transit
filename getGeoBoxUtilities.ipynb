{
 "cells": [
  {
   "cell_type": "markdown",
   "metadata": {},
   "source": [
    "The below cell will save itself to a file located at the filename specified in the top line.  Note that it will overwrite this file without asking first.\n",
    "\n",
    "First, you will have to install shapely.  If you are on a windows, use anaconda's prompt:\n",
    "\n",
    "`conda install shapely`\n",
    "\n",
    "If you're on mac or linux, using pip *should* work (or just use anaconda):\n",
    "\n",
    "`pip install shapely`\n",
    "\n",
    "Instructions are here: https://pypi.python.org/pypi/Shapely\n",
    "\n",
    "In order to use the code, in your notebook put the following **in it's own cell**.  Note that it will overwrite that cell! It also does a one time import, so you'll need to redo the load statement if there are changes:\n",
    "\n",
    "`%load getGeoBoxUtilities.py`\n",
    "\n",
    "Look at the commented out code in the last two cells to see how to use it.  Note that the code was written so that we don't care what order the lat/long points are in.\n",
    "\n",
    "If you are curious to know what area the boxes cover, look at: https://gist.github.com/nichollsbr/f9ea5f7f48d4c2d803e4a57a10d1e94c"
   ]
  },
  {
   "cell_type": "code",
   "execution_count": 1,
   "metadata": {},
   "outputs": [
    {
     "name": "stdout",
     "output_type": "stream",
     "text": [
      "Overwriting getGeoBoxUtilities.py\n"
     ]
    }
   ],
   "source": [
    "%%writefile getGeoBoxUtilities.py\n",
    "import geojson\n",
    "from shapely import geometry\n",
    "\n",
    "baltimore_boxes_geojson_string = open(\"modified_data/boxed_baltimore.geojson\").read()\n",
    "baltimore_boxes_geojson = geojson.loads(baltimore_boxes_geojson_string)\n",
    "\n",
    "geoBoxDict = {}\n",
    "for feature in baltimore_boxes_geojson[\"features\"]:\n",
    "    featureId = feature[\"id\"]\n",
    "    polygonPtList = [(pt[0], pt[1]) for pt in feature[\"geometry\"][\"coordinates\"][0]]\n",
    "    geoBoxDict[featureId] = shapely.geometry.polygon.Polygon(polygonPtList)\n",
    "    \n",
    "# Assumes we are working in Baltimore\n",
    "def getBoxIdForGeo(pt):\n",
    "    point1 = pt[0]\n",
    "    point2 = pt[1]\n",
    "    if pt[0] > 0: # Then the point is (latitude, longitude)\n",
    "        point1 = pt[1]\n",
    "        point2 = pt[0]\n",
    "    for key,value in geoBoxDict.items():\n",
    "        pointToCheck = shapely.geometry.Point(point1, point2)\n",
    "        if value.contains(pointToCheck):\n",
    "            return key"
   ]
  },
  {
   "cell_type": "code",
   "execution_count": 2,
   "metadata": {
    "collapsed": true
   },
   "outputs": [],
   "source": [
    "# testPoint = (-76.545752, 39.289377)\n",
    "# getBoxIdForGeo(testPoint)"
   ]
  },
  {
   "cell_type": "code",
   "execution_count": 3,
   "metadata": {
    "collapsed": true
   },
   "outputs": [],
   "source": [
    "# testPoint = (39.289377, -76.545752)\n",
    "# getBoxIdForGeo(testPoint)"
   ]
  },
  {
   "cell_type": "code",
   "execution_count": null,
   "metadata": {
    "collapsed": true
   },
   "outputs": [],
   "source": []
  }
 ],
 "metadata": {
  "kernelspec": {
   "display_name": "Python 3",
   "language": "python",
   "name": "python3"
  },
  "language_info": {
   "codemirror_mode": {
    "name": "ipython",
    "version": 3
   },
   "file_extension": ".py",
   "mimetype": "text/x-python",
   "name": "python",
   "nbconvert_exporter": "python",
   "pygments_lexer": "ipython3",
   "version": "3.6.2"
  }
 },
 "nbformat": 4,
 "nbformat_minor": 2
}
