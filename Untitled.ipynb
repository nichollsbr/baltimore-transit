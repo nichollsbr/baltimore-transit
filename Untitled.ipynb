{
 "cells": [
  {
   "cell_type": "code",
   "execution_count": null,
   "metadata": {
    "collapsed": true
   },
   "outputs": [],
   "source": [
    "import folium\n",
    "\n",
    "map_2 = folium.Map(location=[39.2904, -76.6122],\n",
    "                   zoom_start=11)\n",
    "for s in parking_citations_data_withgeo[\"GeoPoint\"].values[0:60]:\n",
    "    try:\n",
    "        s1 = s[1:len(s)-1].split(\",\")\n",
    "        latitude = float(s1[0].strip())\n",
    "        longitude = float(s1[1].strip())\n",
    "        folium.CircleMarker([latitude, longitude],\n",
    "                    radius=1,\n",
    "                    color='#3186cc',\n",
    "                    fill_color='#3186cc',\n",
    "                   ).add_to(map_2)\n",
    "    except:\n",
    "        print(s1)\n",
    "map_2"
   ]
  },
  {
   "cell_type": "code",
   "execution_count": null,
   "metadata": {
    "collapsed": true
   },
   "outputs": [],
   "source": [
    "import geojson\n",
    "baltimore_city_geojson_string = open(\"data/Baltimore City Line.geojson\").read()\n",
    "baltimore_city_geojson = geojson.loads(baltimore_city_geojson_string)\n",
    "\n",
    "minLat = float(\"inf\")\n",
    "maxLat = float(\"-inf\")\n",
    "minLong = float(\"inf\")\n",
    "maxLong = float(\"-inf\")\n",
    "\n",
    "#Longitude, Latitude\n",
    "for coordinate in baltimore_city_geojson[\"features\"][0][\"geometry\"][\"coordinates\"][0]:\n",
    "    print(coordinate)\n",
    "    lat = coordinate[1]\n",
    "    if(lat < minLat):\n",
    "        minLat = lat\n",
    "    if(lat > maxLat):\n",
    "        maxLat = lat\n",
    "    long = coordinate[0]\n",
    "    if(long < minLong):\n",
    "        minLong = long\n",
    "    if(long > maxLong):\n",
    "        maxLong = long\n",
    "print(str(minLat) + \" \" + str(maxLat))\n",
    "print(str(minLong) + \" \" + str(maxLong))"
   ]
  }
 ],
 "metadata": {
  "kernelspec": {
   "display_name": "Python 3",
   "language": "python",
   "name": "python3"
  },
  "language_info": {
   "codemirror_mode": {
    "name": "ipython",
    "version": 3
   },
   "file_extension": ".py",
   "mimetype": "text/x-python",
   "name": "python",
   "nbconvert_exporter": "python",
   "pygments_lexer": "ipython3",
   "version": "3.6.2"
  }
 },
 "nbformat": 4,
 "nbformat_minor": 2
}
