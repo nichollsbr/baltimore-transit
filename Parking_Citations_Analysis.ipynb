{
 "cells": [
  {
   "cell_type": "code",
   "execution_count": null,
   "metadata": {
    "collapsed": true
   },
   "outputs": [],
   "source": [
    "import pandas as pd\n",
    "import geojson\n",
    "import random\n",
    "import matplotlib as plt\n",
    "from geojson import Polygon, FeatureCollection, Feature, MultiPolygon\n",
    "import folium\n",
    "from matplotlib.cm import ScalarMappable\n",
    "import geojsonio\n",
    "\n",
    "random.seed(2345698)\n",
    "\n",
    "boxed_baltimore_file = \"modified_data/boxed_baltimore.geojson\""
   ]
  },
  {
   "cell_type": "code",
   "execution_count": null,
   "metadata": {},
   "outputs": [],
   "source": [
    "pc = pd.read_pickle(\"modified_data/clean_parking_citations\")"
   ]
  },
  {
   "cell_type": "code",
   "execution_count": null,
   "metadata": {},
   "outputs": [],
   "source": [
    "with open(boxed_baltimore_file, \"r\") as bb_file:\n",
    "    boxed_baltimore_geojson_string = bb_file.read()\n",
    "    boxed_baltimore_geojson = geojson.loads(boxed_baltimore_geojson_string)"
   ]
  },
  {
   "cell_type": "code",
   "execution_count": null,
   "metadata": {},
   "outputs": [],
   "source": [
    "pc.sample(50)"
   ]
  },
  {
   "cell_type": "markdown",
   "metadata": {},
   "source": [
    "# Choropleth of All Parking Citations Counts by GeoBox"
   ]
  },
  {
   "cell_type": "code",
   "execution_count": null,
   "metadata": {},
   "outputs": [],
   "source": [
    "def getGeoJsonForCountsForSeries(seriesData):\n",
    "    boxCounts_all = seriesData.value_counts()\n",
    "    # norm_colors = plt.colors.Normalize(min(boxCounts_all), max(boxCounts_all))\n",
    "    norm_colors = plt.colors.LogNorm(min(boxCounts_all), max(boxCounts_all))\n",
    "\n",
    "    scalarMap = ScalarMappable(norm=norm_colors, cmap=\"viridis\")\n",
    "\n",
    "    featureList = boxed_baltimore_geojson.features.copy()\n",
    "    for i in range(0, 625):\n",
    "        c = boxCounts_all.get(i, -1)\n",
    "        feature = featureList[i]\n",
    "        if c == -1:\n",
    "            feature.properties[\"fill-opacity\"] = 0.0\n",
    "            feature.properties[\"stroke-width\"] = 0\n",
    "        else:\n",
    "            feature.properties[\"fill-opacity\"] = 0.6\n",
    "            fillColorArray = scalarMap.to_rgba(c, alpha = 0.6)\n",
    "            fillColor = \"rgb({}, {}, {})\".format(int(fillColorArray[0]*100), int(fillColorArray[1]*100), int(fillColorArray[2]*100))\n",
    "            feature.properties[\"fill\"] = fillColor\n",
    "            feature.properties[\"stroke\"] = fillColor\n",
    "            feature.properties[\"count\"] = str(c)\n",
    "    return FeatureCollection(featureList)"
   ]
  },
  {
   "cell_type": "code",
   "execution_count": null,
   "metadata": {
    "collapsed": true
   },
   "outputs": [],
   "source": [
    "def foliumMapImageOfGeoJsonCounts(geojsonCounts):\n",
    "    # geojsonio.display(geojson.dumps(all_parking_tickets_geojson))\n",
    "\n",
    "    def styleFunction(feature):\n",
    "        return {\n",
    "            'fillOpacity': feature[\"properties\"][\"fill-opacity\"],\n",
    "            'fillColor': feature[\"properties\"][\"fill\"],\n",
    "            'weight': 0\n",
    "        }\n",
    "\n",
    "    foliumMap = folium.Map(location=[39.2904, -76.6122], zoom_start=11)\n",
    "    folium.GeoJson(geojson.dumps(geojsonCounts),\n",
    "                   name='geojson',\n",
    "                   style_function = styleFunction\n",
    "                  ).add_to(foliumMap)\n",
    "    return foliumMap"
   ]
  },
  {
   "cell_type": "code",
   "execution_count": null,
   "metadata": {
    "scrolled": false
   },
   "outputs": [],
   "source": [
    "foliumMapImageOfGeoJsonCounts(getGeoJsonForCountsForSeries(pc[\"GeoBox\"]))"
   ]
  },
  {
   "cell_type": "markdown",
   "metadata": {},
   "source": [
    "# Maps for the Top 5 Descriptions"
   ]
  },
  {
   "cell_type": "code",
   "execution_count": null,
   "metadata": {},
   "outputs": [],
   "source": [
    "top5 = pc[\"Description\"].value_counts()[0:5]"
   ]
  },
  {
   "cell_type": "code",
   "execution_count": null,
   "metadata": {},
   "outputs": [],
   "source": [
    "description = top5.index[0]\n",
    "print(description)\n",
    "foliumMapImageOfGeoJsonCounts(getGeoJsonForCountsForSeries(pc[pc[\"Description\"] == description][\"GeoBox\"]))"
   ]
  },
  {
   "cell_type": "code",
   "execution_count": null,
   "metadata": {},
   "outputs": [],
   "source": [
    "description = top5.index[1]\n",
    "print(description)\n",
    "foliumMapImageOfGeoJsonCounts(getGeoJsonForCountsForSeries(pc[pc[\"Description\"] == description][\"GeoBox\"]))"
   ]
  },
  {
   "cell_type": "code",
   "execution_count": null,
   "metadata": {},
   "outputs": [],
   "source": [
    "description = top5.index[2]\n",
    "print(description)\n",
    "foliumMapImageOfGeoJsonCounts(getGeoJsonForCountsForSeries(pc[pc[\"Description\"] == description][\"GeoBox\"]))"
   ]
  },
  {
   "cell_type": "code",
   "execution_count": null,
   "metadata": {},
   "outputs": [],
   "source": [
    "description = top5.index[3]\n",
    "print(description)\n",
    "foliumMapImageOfGeoJsonCounts(getGeoJsonForCountsForSeries(pc[pc[\"Description\"] == description][\"GeoBox\"]))"
   ]
  },
  {
   "cell_type": "code",
   "execution_count": null,
   "metadata": {},
   "outputs": [],
   "source": [
    "description = top5.index[4]\n",
    "print(description)\n",
    "foliumMapImageOfGeoJsonCounts(getGeoJsonForCountsForSeries(pc[pc[\"Description\"] == description][\"GeoBox\"]))"
   ]
  },
  {
   "cell_type": "code",
   "execution_count": null,
   "metadata": {
    "collapsed": true
   },
   "outputs": [],
   "source": []
  }
 ],
 "metadata": {
  "kernelspec": {
   "display_name": "Python 3",
   "language": "python",
   "name": "python3"
  },
  "language_info": {
   "codemirror_mode": {
    "name": "ipython",
    "version": 3
   },
   "file_extension": ".py",
   "mimetype": "text/x-python",
   "name": "python",
   "nbconvert_exporter": "python",
   "pygments_lexer": "ipython3",
   "version": "3.6.2"
  }
 },
 "nbformat": 4,
 "nbformat_minor": 2
}
